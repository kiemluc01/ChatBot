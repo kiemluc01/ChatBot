{
 "cells": [
  {
   "cell_type": "code",
   "execution_count": 1,
   "metadata": {},
   "outputs": [
    {
     "name": "stderr",
     "output_type": "stream",
     "text": [
      "c:\\wamp64\\www\\chatbott\\ChatBot\\Modules\\crawl_UTE.py:10: GuessedAtParserWarning: No parser was explicitly specified, so I'm using the best available HTML parser for this system (\"lxml\"). This usually isn't a problem, but if you run this code on another system, or in a different virtual environment, it may use a different parser and behave differently.\n",
      "\n",
      "The code that caused this warning is on line 10 of the file c:\\wamp64\\www\\chatbott\\ChatBot\\Modules\\crawl_UTE.py. To get rid of this warning, pass the additional argument 'features=\"lxml\"' to the BeautifulSoup constructor.\n",
      "\n",
      "  soup = BeautifulSoup(result.content,\"html\")\n"
     ]
    },
    {
     "name": "stdout",
     "output_type": "stream",
     "text": [
      " * Serving Flask app '__main__' (lazy loading)\n",
      " * Environment: production\n",
      "\u001b[31m   WARNING: This is a development server. Do not use it in a production deployment.\u001b[0m\n",
      "\u001b[2m   Use a production WSGI server instead.\u001b[0m\n",
      " * Debug mode: off\n"
     ]
    },
    {
     "name": "stderr",
     "output_type": "stream",
     "text": [
      "c:\\wamp64\\www\\chatbott\\ChatBot\\Modules\\crawl_UTE.py:20: GuessedAtParserWarning: No parser was explicitly specified, so I'm using the best available HTML parser for this system (\"lxml\"). This usually isn't a problem, but if you run this code on another system, or in a different virtual environment, it may use a different parser and behave differently.\n",
      "\n",
      "The code that caused this warning is on line 20 of the file c:\\wamp64\\www\\chatbott\\ChatBot\\Modules\\crawl_UTE.py. To get rid of this warning, pass the additional argument 'features=\"lxml\"' to the BeautifulSoup constructor.\n",
      "\n",
      "  soup = BeautifulSoup(tree.content,\"html\")\n",
      " * Running on http://127.0.0.1:5000 (Press CTRL+C to quit)\n",
      "127.0.0.1 - - [19/May/2022 17:44:44] \"GET / HTTP/1.1\" 200 -\n",
      "127.0.0.1 - - [19/May/2022 17:44:44] \"GET /static/css/main.css HTTP/1.1\" 304 -\n",
      "127.0.0.1 - - [19/May/2022 17:44:44] \"GET /static/images/menu.png HTTP/1.1\" 304 -\n",
      "127.0.0.1 - - [19/May/2022 17:44:44] \"GET /static/images/avt_bot.png HTTP/1.1\" 304 -\n",
      "127.0.0.1 - - [19/May/2022 17:44:44] \"GET /static/images/submit.png HTTP/1.1\" 304 -\n",
      "127.0.0.1 - - [19/May/2022 17:44:44] \"GET /static/font/Roboto/Roboto-Bold.ttf HTTP/1.1\" 304 -\n",
      "127.0.0.1 - - [19/May/2022 17:44:44] \"GET /favicon.ico HTTP/1.1\" 404 -\n",
      "127.0.0.1 - - [19/May/2022 17:44:57] \"GET /static/images/avt_user.jpg HTTP/1.1\" 304 -\n",
      "127.0.0.1 - - [19/May/2022 17:44:57] \"GET /get?msg=alo&DB= HTTP/1.1\" 200 -\n",
      "127.0.0.1 - - [19/May/2022 17:45:10] \"GET /get?msg=thời%20khóa%20biểu&DB= HTTP/1.1\" 200 -\n"
     ]
    },
    {
     "name": "stdout",
     "output_type": "stream",
     "text": [
      "2\n",
      "3\n",
      "221LTM01, Lập trình mạng, 2, 1, 2, Nguyễn Văn Phát,  A301, 07/02/2022,  \n",
      "221TTNT01, Trí tuệ nhân tạo, 2, 3, 5, Phạm Tuấn,  A213, 07/02/2022,  \n",
      "221BTMT01, Bảo trì máy tính, 3, 3, 5, Lê Vũ,  A216, 07/02/2022,  \n",
      "221DAPM01, Đồ án phần mềm I, 3, 6, 6, Hoàng Thị Mỹ Lệ,  X, 14/02/2022,  \n",
      "221KNLVN01, Kỹ năng làm việc nhóm, 4, 7, 8, Hoàng Thế Hải,  A101, 07/02/2022,  \n",
      "221WIFI02, Công nghệ mạng không dây, 4, 9, 11, Lê Vũ,  A218, 07/02/2022,  \n",
      "221TLTM04, TH Lập trình mạng, 6, 1, 2, Nguyễn Văn Phát,  PMT, 14/02/2022,  \n",
      "221CDPM02, Chuyên đề phần mềm, 6, 3, 5, Phạm Tuấn,  A302, 07/02/2022,  \n",
      "\n"
     ]
    },
    {
     "name": "stderr",
     "output_type": "stream",
     "text": [
      "127.0.0.1 - - [19/May/2022 17:45:30] \"GET /tkb?msv=1911505310246 HTTP/1.1\" 200 -\n",
      "INFO:werkzeug:127.0.0.1 - - [19/May/2022 17:45:30] \"GET /tkb?msv=1911505310246 HTTP/1.1\" 200 -\n"
     ]
    }
   ],
   "source": [
    "from flask import Flask, render_template, request\n",
    "from Modules import RequestsServer as rs, crawl_UTE as cu\n",
    "\n",
    "\n",
    "# create app \n",
    "app = Flask(__name__)\n",
    "# home \n",
    "@app.route(\"/\")\n",
    "def home():\n",
    "    return render_template(\"index.html\")\n",
    "# get reply \n",
    "@app.route(\"/get\")\n",
    "def get_bot_response():\n",
    "    userText = request.args.get('msg')\n",
    "    db = request.args.get('DB')\n",
    "    return rs.main_requests(userText,db)\n",
    "    \n",
    "@app.route(\"/tkb\")\n",
    "def tbk():\n",
    "    msv = request.args.get('msv')\n",
    "    return rs.lichhoc(msv)\n",
    "# run main\n",
    "if __name__ == \"__main__\":\n",
    "    cu.crawl_data()\n",
    "    app.run()"
   ]
  },
  {
   "cell_type": "code",
   "execution_count": null,
   "metadata": {},
   "outputs": [],
   "source": []
  }
 ],
 "metadata": {
  "interpreter": {
   "hash": "2e9fd0d6f45fcf36c4eaecc5135bed223ead93da664f7497837f80afbce8adb2"
  },
  "kernelspec": {
   "display_name": "Python 3.10.4 64-bit",
   "language": "python",
   "name": "python3"
  },
  "language_info": {
   "codemirror_mode": {
    "name": "ipython",
    "version": 3
   },
   "file_extension": ".py",
   "mimetype": "text/x-python",
   "name": "python",
   "nbconvert_exporter": "python",
   "pygments_lexer": "ipython3",
   "version": "3.10.4"
  },
  "orig_nbformat": 4
 },
 "nbformat": 4,
 "nbformat_minor": 2
}
